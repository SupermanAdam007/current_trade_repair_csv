{
 "cells": [
  {
   "cell_type": "code",
   "execution_count": 203,
   "metadata": {},
   "outputs": [],
   "source": [
    "import pandas as pd, glob, os, matplotlib.pyplot as plt, numpy as np\n",
    "from datetime import datetime"
   ]
  },
  {
   "cell_type": "code",
   "execution_count": 278,
   "metadata": {
    "collapsed": true
   },
   "outputs": [],
   "source": [
    "main_time_step_trade = 5\n",
    "main_time_step_current = 5"
   ]
  },
  {
   "cell_type": "code",
   "execution_count": null,
   "metadata": {
    "collapsed": true
   },
   "outputs": [],
   "source": [
    "############################# LOADING #############################"
   ]
  },
  {
   "cell_type": "code",
   "execution_count": 205,
   "metadata": {},
   "outputs": [],
   "source": [
    "fname_trade = 'trade_2017-06-19_11-16-tmp.csv'\n",
    "#Flag = 1: buy, Flag = 2: sell, Flag = 4: unknown \n",
    "df_trade = pd.read_csv(fname_trade, sep=\";\", header = None, names = ['Market', 'From', 'To', \n",
    "                                                               'Flag', 'TradeId', 'Timestamp',\n",
    "                                                               'Quantity', 'Price', 'Total'])"
   ]
  },
  {
   "cell_type": "code",
   "execution_count": null,
   "metadata": {
    "collapsed": true
   },
   "outputs": [],
   "source": [
    "fname_current = 'current_2017-06-19_11-16-tmp.csv'\n",
    "#Flag = 1: price up, Flag = 2: price down, Flag = 4: price unchanged\n",
    "df_current = pd.read_csv(fname_current, sep=\";\", header = None, names = ['Market', 'From', 'To',\n",
    "                                                                'Flag', 'Price', 'Timestamp',\n",
    "                                                                'LastVolume', 'LastVolumeTo',\n",
    "                                                                'LastTradeId', 'Volume24h',\n",
    "                                                                'Volume24hTo'])"
   ]
  },
  {
   "cell_type": "code",
   "execution_count": null,
   "metadata": {
    "collapsed": true
   },
   "outputs": [],
   "source": [
    "############################# TIME SYNC #############################"
   ]
  },
  {
   "cell_type": "code",
   "execution_count": null,
   "metadata": {
    "collapsed": true
   },
   "outputs": [],
   "source": []
  },
  {
   "cell_type": "code",
   "execution_count": 206,
   "metadata": {},
   "outputs": [],
   "source": [
    "df_trade.Flag = df_trade.Flag.where(df_trade.Flag != 2, -1) # for easy multiply with Total and sum same Timestamp"
   ]
  },
  {
   "cell_type": "code",
   "execution_count": 304,
   "metadata": {},
   "outputs": [],
   "source": [
    "df_trade['Timestamp'] = df_trade['Timestamp'].astype(np.int64)\n",
    "timestamp_start_trade = df_trade['Timestamp'].iloc[0]\n",
    "timestamp_end_trade = df_trade['Timestamp'].iloc[-1]\n",
    "timestamp_duration_trade = timestamp_end_trade - timestamp_start_trade\n",
    "\n",
    "duration_trade = list(range(int(timestamp_start_trade) - main_time_step_trade, int(timestamp_end_trade), main_time_step_trade))"
   ]
  },
  {
   "cell_type": "code",
   "execution_count": 303,
   "metadata": {
    "scrolled": false
   },
   "outputs": [
    {
     "ename": "NameError",
     "evalue": "name 'duration_trade' is not defined",
     "output_type": "error",
     "traceback": [
      "\u001b[1;31m---------------------------------------------------------------------------\u001b[0m",
      "\u001b[1;31mNameError\u001b[0m                                 Traceback (most recent call last)",
      "\u001b[1;32m<ipython-input-303-69d3806828e7>\u001b[0m in \u001b[0;36m<module>\u001b[1;34m()\u001b[0m\n\u001b[1;32m----> 1\u001b[1;33m \u001b[0mdf_trade_repaired\u001b[0m \u001b[1;33m=\u001b[0m \u001b[0mpd\u001b[0m\u001b[1;33m.\u001b[0m\u001b[0mDataFrame\u001b[0m\u001b[1;33m(\u001b[0m\u001b[1;33m{\u001b[0m\u001b[1;34m'Timestamp'\u001b[0m\u001b[1;33m:\u001b[0m \u001b[0mduration_trade\u001b[0m\u001b[1;33m,\u001b[0m \u001b[1;34m'Value'\u001b[0m\u001b[1;33m:\u001b[0m \u001b[1;36m0\u001b[0m\u001b[1;33m}\u001b[0m\u001b[1;33m)\u001b[0m\u001b[1;33m\u001b[0m\u001b[0m\n\u001b[0m\u001b[0;32m      2\u001b[0m \u001b[1;33m\u001b[0m\u001b[0m\n\u001b[0;32m      3\u001b[0m \u001b[1;32mfor\u001b[0m \u001b[0mtt\u001b[0m \u001b[1;32min\u001b[0m \u001b[0mduration_trade\u001b[0m\u001b[1;33m:\u001b[0m\u001b[1;33m\u001b[0m\u001b[0m\n\u001b[0;32m      4\u001b[0m     \u001b[0mtmp\u001b[0m \u001b[1;33m=\u001b[0m \u001b[0mdf_trade\u001b[0m\u001b[1;33m[\u001b[0m\u001b[1;33m(\u001b[0m\u001b[0mabs\u001b[0m\u001b[1;33m(\u001b[0m\u001b[0mtt\u001b[0m \u001b[1;33m-\u001b[0m \u001b[0mdf_trade\u001b[0m\u001b[1;33m.\u001b[0m\u001b[0mTimestamp\u001b[0m\u001b[1;33m)\u001b[0m \u001b[1;33m<=\u001b[0m \u001b[0mmain_time_step_trade\u001b[0m\u001b[1;33m)\u001b[0m \u001b[1;33m&\u001b[0m \u001b[1;33m(\u001b[0m\u001b[0mdf_trade\u001b[0m\u001b[1;33m.\u001b[0m\u001b[0mTimestamp\u001b[0m \u001b[1;33m>\u001b[0m \u001b[0mtt\u001b[0m\u001b[1;33m)\u001b[0m\u001b[1;33m]\u001b[0m\u001b[1;33m\u001b[0m\u001b[0m\n\u001b[0;32m      5\u001b[0m     \u001b[0mdf_trade_repaired\u001b[0m\u001b[1;33m.\u001b[0m\u001b[0mValue\u001b[0m\u001b[1;33m[\u001b[0m\u001b[0mdf_trade_repaired\u001b[0m\u001b[1;33m.\u001b[0m\u001b[0mTimestamp\u001b[0m \u001b[1;33m==\u001b[0m \u001b[0mtt\u001b[0m\u001b[1;33m]\u001b[0m \u001b[1;33m=\u001b[0m \u001b[0mnp\u001b[0m\u001b[1;33m.\u001b[0m\u001b[0msum\u001b[0m\u001b[1;33m(\u001b[0m\u001b[0mnp\u001b[0m\u001b[1;33m.\u001b[0m\u001b[0mmultiply\u001b[0m\u001b[1;33m(\u001b[0m\u001b[0mtmp\u001b[0m\u001b[1;33m.\u001b[0m\u001b[0mTotal\u001b[0m\u001b[1;33m,\u001b[0m \u001b[0mtmp\u001b[0m\u001b[1;33m.\u001b[0m\u001b[0mFlag\u001b[0m\u001b[1;33m)\u001b[0m\u001b[1;33m)\u001b[0m\u001b[1;33m\u001b[0m\u001b[0m\n",
      "\u001b[1;31mNameError\u001b[0m: name 'duration_trade' is not defined"
     ]
    }
   ],
   "source": [
    "df_trade_repaired = pd.DataFrame({'Timestamp': duration_trade, 'Value': 0})\n",
    "\n",
    "for tt in duration_trade:\n",
    "    tmp = df_trade[(abs(tt - df_trade.Timestamp) <= main_time_step_trade) & (df_trade.Timestamp > tt)]\n",
    "    df_trade_repaired.Value[df_trade_repaired.Timestamp == tt] = np.sum(np.multiply(tmp.Total, tmp.Flag))"
   ]
  },
  {
   "cell_type": "code",
   "execution_count": 209,
   "metadata": {
    "scrolled": true
   },
   "outputs": [],
   "source": [
    "#plt.figure(figsize=(15, 8), dpi = 80)\n",
    "##plt.plot(df_trade_repaired.Timestamp, df_trade_repaired.Value)\n",
    "#plt.bar(range(df_trade_repaired.Value.size), df_trade_repaired.Value, width=10)\n",
    "#plt.show()"
   ]
  },
  {
   "cell_type": "code",
   "execution_count": 210,
   "metadata": {
    "collapsed": true
   },
   "outputs": [],
   "source": [
    "df_trade_repaired.to_csv('repaired_' + fname_trade, header=None, index=None, sep=';')"
   ]
  },
  {
   "cell_type": "code",
   "execution_count": null,
   "metadata": {
    "collapsed": true
   },
   "outputs": [],
   "source": [
    "############################# CURRENT #############################"
   ]
  },
  {
   "cell_type": "code",
   "execution_count": 280,
   "metadata": {},
   "outputs": [
    {
     "name": "stdout",
     "output_type": "stream",
     "text": [
      "[1497863795, 1497863800, 1497863805, 1497863810, 1497863815, 1497863820, 1497863825, 1497863830, 1497863835, 1497863840, 1497863845, 1497863850, 1497863855, 1497863860, 1497863865, 1497863870, 1497863875, 1497863880, 1497863885, 1497863890, 1497863895, 1497863900, 1497863905, 1497863910, 1497863915, 1497863920, 1497863925, 1497863930, 1497863935, 1497863940, 1497863945, 1497863950, 1497863955, 1497863960, 1497863965, 1497863970, 1497863975, 1497863980, 1497863985, 1497863990, 1497863995, 1497864000, 1497864005, 1497864010, 1497864015, 1497864020, 1497864025, 1497864030, 1497864035, 1497864040, 1497864045, 1497864050, 1497864055, 1497864060, 1497864065, 1497864070, 1497864075, 1497864080, 1497864085, 1497864090, 1497864095, 1497864100, 1497864105, 1497864110, 1497864115, 1497864120, 1497864125, 1497864130, 1497864135, 1497864140, 1497864145, 1497864150, 1497864155, 1497864160]\n"
     ]
    }
   ],
   "source": [
    "df_current['Timestamp'] = df_current['Timestamp'].astype(np.int64)\n",
    "timestamp_start = df_current['Timestamp'].iloc[0]\n",
    "timestamp_end = df_current['Timestamp'].iloc[-1]\n",
    "timestamp_duration = timestamp_end - timestamp_start\n",
    "\n",
    "duration = list(range(int(timestamp_start) - main_time_step, int(timestamp_end), main_time_step_current))"
   ]
  },
  {
   "cell_type": "code",
   "execution_count": 285,
   "metadata": {},
   "outputs": [],
   "source": [
    "df_current_repaired = pd.DataFrame({'Timestamp': duration, 'Price': 0})\n",
    "\n",
    "for tt in duration: #[1497863795, 1497863805, 1497863815, 1497863825]:#\n",
    "    tmp = df_current[(abs(tt - df_current.Timestamp) <= main_time_step_current) & (df_current.Timestamp > tt)]\n",
    "    df_current_repaired.Price[df_current_repaired.Timestamp == tt] = np.mean(tmp.Price)"
   ]
  },
  {
   "cell_type": "code",
   "execution_count": 298,
   "metadata": {},
   "outputs": [],
   "source": [
    "df_current_repaired.Price = df_current_repaired.Price.interpolate()"
   ]
  },
  {
   "cell_type": "code",
   "execution_count": 301,
   "metadata": {},
   "outputs": [
    {
     "data": {
      "image/png": "[encoded data removed]",
      "text/plain": [
       "<matplotlib.figure.Figure at 0x22d5c7b72e8>"
      ]
     },
     "metadata": {},
     "output_type": "display_data"
    }
   ],
   "source": [
    "plt.figure(figsize=(10, 4), dpi = 80)\n",
    "df_current_repaired.Price.plot()\n",
    "plt.show()"
   ]
  },
  {
   "cell_type": "code",
   "execution_count": 305,
   "metadata": {},
   "outputs": [
    {
     "data": {
      "text/plain": [
       "[1497863732,\n",
       " 1497863737,\n",
       " 1497863742,\n",
       " 1497863747,\n",
       " 1497863752,\n",
       " 1497863757,\n",
       " 1497863762,\n",
       " 1497863767,\n",
       " 1497863772,\n",
       " 1497863777,\n",
       " 1497863782,\n",
       " 1497863787,\n",
       " 1497863792,\n",
       " 1497863797,\n",
       " 1497863802,\n",
       " 1497863807,\n",
       " 1497863812,\n",
       " 1497863817,\n",
       " 1497863822,\n",
       " 1497863827,\n",
       " 1497863832,\n",
       " 1497863837,\n",
       " 1497863842,\n",
       " 1497863847,\n",
       " 1497863852,\n",
       " 1497863857,\n",
       " 1497863862,\n",
       " 1497863867,\n",
       " 1497863872,\n",
       " 1497863877,\n",
       " 1497863882,\n",
       " 1497863887,\n",
       " 1497863892,\n",
       " 1497863897,\n",
       " 1497863902,\n",
       " 1497863907,\n",
       " 1497863912,\n",
       " 1497863917,\n",
       " 1497863922,\n",
       " 1497863927,\n",
       " 1497863932,\n",
       " 1497863937,\n",
       " 1497863942,\n",
       " 1497863947,\n",
       " 1497863952,\n",
       " 1497863957,\n",
       " 1497863962,\n",
       " 1497863967,\n",
       " 1497863972,\n",
       " 1497863977,\n",
       " 1497863982,\n",
       " 1497863987,\n",
       " 1497863992,\n",
       " 1497863997,\n",
       " 1497864002,\n",
       " 1497864007,\n",
       " 1497864012,\n",
       " 1497864017,\n",
       " 1497864022,\n",
       " 1497864027,\n",
       " 1497864032,\n",
       " 1497864037,\n",
       " 1497864042,\n",
       " 1497864047,\n",
       " 1497864052,\n",
       " 1497864057,\n",
       " 1497864062,\n",
       " 1497864067,\n",
       " 1497864072,\n",
       " 1497864077,\n",
       " 1497864082,\n",
       " 1497864087,\n",
       " 1497864092,\n",
       " 1497864097,\n",
       " 1497864102,\n",
       " 1497864107,\n",
       " 1497864112,\n",
       " 1497864117,\n",
       " 1497864122,\n",
       " 1497864127,\n",
       " 1497864132,\n",
       " 1497864137,\n",
       " 1497864142,\n",
       " 1497864147,\n",
       " 1497864152,\n",
       " 1497864157,\n",
       " 1497864162]"
      ]
     },
     "execution_count": 305,
     "metadata": {},
     "output_type": "execute_result"
    }
   ],
   "source": [
    "duration_trade"
   ]
  },
  {
   "cell_type": "code",
   "execution_count": null,
   "metadata": {
    "collapsed": true
   },
   "outputs": [],
   "source": []
  },
  {
   "cell_type": "code",
   "execution_count": null,
   "metadata": {
    "collapsed": true
   },
   "outputs": [],
   "source": []
  },
  {
   "cell_type": "code",
   "execution_count": null,
   "metadata": {
    "collapsed": true
   },
   "outputs": [],
   "source": []
  },
  {
   "cell_type": "code",
   "execution_count": null,
   "metadata": {
    "collapsed": true
   },
   "outputs": [],
   "source": []
  },
  {
   "cell_type": "code",
   "execution_count": null,
   "metadata": {
    "collapsed": true
   },
   "outputs": [],
   "source": []
  },
  {
   "cell_type": "code",
   "execution_count": null,
   "metadata": {
    "collapsed": true
   },
   "outputs": [],
   "source": []
  },
  {
   "cell_type": "code",
   "execution_count": null,
   "metadata": {
    "collapsed": true
   },
   "outputs": [],
   "source": []
  },
  {
   "cell_type": "code",
   "execution_count": null,
   "metadata": {
    "collapsed": true
   },
   "outputs": [],
   "source": []
  },
  {
   "cell_type": "code",
   "execution_count": null,
   "metadata": {
    "collapsed": true
   },
   "outputs": [],
   "source": []
  },
  {
   "cell_type": "code",
   "execution_count": null,
   "metadata": {
    "collapsed": true
   },
   "outputs": [],
   "source": []
  },
  {
   "cell_type": "code",
   "execution_count": null,
   "metadata": {
    "collapsed": true
   },
   "outputs": [],
   "source": []
  }
 ],
 "metadata": {
  "kernelspec": {
   "display_name": "Python 3",
   "language": "python",
   "name": "python3"
  },
  "language_info": {
   "codemirror_mode": {
    "name": "ipython",
    "version": 3
   },
   "file_extension": ".py",
   "mimetype": "text/x-python",
   "name": "python",
   "nbconvert_exporter": "python",
   "pygments_lexer": "ipython3",
   "version": "3.5.3"
  }
 },
 "nbformat": 4,
 "nbformat_minor": 2
}
